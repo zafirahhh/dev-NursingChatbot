{
 "cells": [
  {
   "cell_type": "code",
   "execution_count": 3,
   "id": "11440575",
   "metadata": {},
   "outputs": [
    {
     "name": "stdout",
     "output_type": "stream",
     "text": [
      "200\n",
      "{'id': 'chatcmpl-be2shs8s088qjfasi2f45e', 'object': 'chat.completion', 'created': 1751072173, 'model': 'huggingfaceh4_-_zephyr-7b-beta', 'choices': [{'index': 0, 'logprobs': None, 'finish_reason': 'stop', 'message': {'role': 'assistant', 'content': \"The normal respiratory rate for a child can vary based on age:\\n\\n- Newborns (0 to 1 month): 30 to 60 breaths per minute\\n- Infants (1 to 12 months): 25 to 40 breaths per minute\\n- Toddlers (1 to 3 years): 20 to 30 breaths per minute\\n- Preschoolers (3 to 5 years): 20 to 24 breaths per minute\\n- School-aged children (6 to 12 years): 16 to 20 breaths per minute\\n\\nIt's essential to note that respiratory rate can increase or decrease based on factors such as activity level, illness, or excitement. If you notice a persistent change in your child's breathing pattern, it's best to consult with a healthcare professional.\"}}], 'usage': {'prompt_tokens': 40, 'completion_tokens': 188, 'total_tokens': 228}, 'stats': {}, 'system_fingerprint': 'huggingfaceh4_-_zephyr-7b-beta'}\n"
     ]
    }
   ],
   "source": [
    "import requests\n",
    "\n",
    "TAILSCALE_IP = \"100.96.212.48\"  # Replace with your Tailscale IP\n",
    "url = f\"http://100.96.212.48:1234/v1/chat/completions\"\n",
    "headers = {\"Content-Type\": \"application/json\"}\n",
    "data = {\n",
    "    \"model\": \"huggingface4_-_zephyr-7b-beta\",  # Confirm exact name from LM Studio\n",
    "    \"messages\": [\n",
    "        {\"role\": \"system\", \"content\": \"You are a helpful assistant.\"},\n",
    "        {\"role\": \"user\", \"content\": \"What is the normal respiratory rate for a child?\"}\n",
    "    ]\n",
    "}\n",
    "\n",
    "response = requests.post(url, headers=headers, json=data)\n",
    "print(response.status_code)\n",
    "print(response.json())"
   ]
  }
 ],
 "metadata": {
  "kernelspec": {
   "display_name": "Python 3",
   "language": "python",
   "name": "python3"
  },
  "language_info": {
   "codemirror_mode": {
    "name": "ipython",
    "version": 3
   },
   "file_extension": ".py",
   "mimetype": "text/x-python",
   "name": "python",
   "nbconvert_exporter": "python",
   "pygments_lexer": "ipython3",
   "version": "3.12.3"
  }
 },
 "nbformat": 4,
 "nbformat_minor": 5
}
